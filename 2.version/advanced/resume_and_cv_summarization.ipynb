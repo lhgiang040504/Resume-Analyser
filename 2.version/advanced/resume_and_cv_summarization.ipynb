{
  "cells": [
    {
      "cell_type": "markdown",
      "metadata": {
        "id": "YP38XNycbpS_"
      },
      "source": [
        "# 1"
      ]
    },
    {
      "cell_type": "markdown",
      "metadata": {
        "id": "jGRZZpAlQ5kJ"
      },
      "source": [
        "<div style=\"color:white;display:fill;border-radius:8px;\n",
        "            background-color:#FFE5B4;font-size:150%;\n",
        "            letter-spacing:1.0px\">\n",
        "    <p style=\"padding: 8px;color:white;\"><b><b><span style='color:#2B0245'> 1 | Importing the libraries</span></b></b></p>\n",
        "</div>"
      ]
    },
    {
      "cell_type": "code",
      "execution_count": null,
      "metadata": {
        "colab": {
          "base_uri": "https://localhost:8080/"
        },
        "id": "QY9KR2SWRFTJ",
        "outputId": "4b5a38a6-3233-470a-9417-03419158e300"
      },
      "outputs": [
        {
          "output_type": "stream",
          "name": "stdout",
          "text": [
            "Mounted at /content/drive\n"
          ]
        }
      ],
      "source": [
        "from google.colab import drive\n",
        "drive.mount('/content/drive')"
      ]
    },
    {
      "cell_type": "code",
      "execution_count": null,
      "metadata": {
        "colab": {
          "base_uri": "https://localhost:8080/"
        },
        "collapsed": true,
        "id": "FFC93oFiWmaN",
        "outputId": "a592bb20-61d1-4434-f6d2-6d69afc07d4f"
      },
      "outputs": [
        {
          "output_type": "stream",
          "name": "stdout",
          "text": [
            "Requirement already satisfied: spacy in /usr/local/lib/python3.10/dist-packages (3.7.6)\n",
            "Requirement already satisfied: spacy-legacy<3.1.0,>=3.0.11 in /usr/local/lib/python3.10/dist-packages (from spacy) (3.0.12)\n",
            "Requirement already satisfied: spacy-loggers<2.0.0,>=1.0.0 in /usr/local/lib/python3.10/dist-packages (from spacy) (1.0.5)\n",
            "Requirement already satisfied: murmurhash<1.1.0,>=0.28.0 in /usr/local/lib/python3.10/dist-packages (from spacy) (1.0.10)\n",
            "Requirement already satisfied: cymem<2.1.0,>=2.0.2 in /usr/local/lib/python3.10/dist-packages (from spacy) (2.0.8)\n",
            "Requirement already satisfied: preshed<3.1.0,>=3.0.2 in /usr/local/lib/python3.10/dist-packages (from spacy) (3.0.9)\n",
            "Requirement already satisfied: thinc<8.3.0,>=8.2.2 in /usr/local/lib/python3.10/dist-packages (from spacy) (8.2.5)\n",
            "Requirement already satisfied: wasabi<1.2.0,>=0.9.1 in /usr/local/lib/python3.10/dist-packages (from spacy) (1.1.3)\n",
            "Requirement already satisfied: srsly<3.0.0,>=2.4.3 in /usr/local/lib/python3.10/dist-packages (from spacy) (2.4.8)\n",
            "Requirement already satisfied: catalogue<2.1.0,>=2.0.6 in /usr/local/lib/python3.10/dist-packages (from spacy) (2.0.10)\n",
            "Requirement already satisfied: weasel<0.5.0,>=0.1.0 in /usr/local/lib/python3.10/dist-packages (from spacy) (0.4.1)\n",
            "Requirement already satisfied: typer<1.0.0,>=0.3.0 in /usr/local/lib/python3.10/dist-packages (from spacy) (0.12.5)\n",
            "Requirement already satisfied: tqdm<5.0.0,>=4.38.0 in /usr/local/lib/python3.10/dist-packages (from spacy) (4.66.5)\n",
            "Requirement already satisfied: requests<3.0.0,>=2.13.0 in /usr/local/lib/python3.10/dist-packages (from spacy) (2.32.3)\n",
            "Requirement already satisfied: pydantic!=1.8,!=1.8.1,<3.0.0,>=1.7.4 in /usr/local/lib/python3.10/dist-packages (from spacy) (2.9.2)\n",
            "Requirement already satisfied: jinja2 in /usr/local/lib/python3.10/dist-packages (from spacy) (3.1.4)\n",
            "Requirement already satisfied: setuptools in /usr/local/lib/python3.10/dist-packages (from spacy) (71.0.4)\n",
            "Requirement already satisfied: packaging>=20.0 in /usr/local/lib/python3.10/dist-packages (from spacy) (24.1)\n",
            "Requirement already satisfied: langcodes<4.0.0,>=3.2.0 in /usr/local/lib/python3.10/dist-packages (from spacy) (3.4.0)\n",
            "Requirement already satisfied: numpy>=1.19.0 in /usr/local/lib/python3.10/dist-packages (from spacy) (1.26.4)\n",
            "Requirement already satisfied: language-data>=1.2 in /usr/local/lib/python3.10/dist-packages (from langcodes<4.0.0,>=3.2.0->spacy) (1.2.0)\n",
            "Requirement already satisfied: annotated-types>=0.6.0 in /usr/local/lib/python3.10/dist-packages (from pydantic!=1.8,!=1.8.1,<3.0.0,>=1.7.4->spacy) (0.7.0)\n",
            "Requirement already satisfied: pydantic-core==2.23.4 in /usr/local/lib/python3.10/dist-packages (from pydantic!=1.8,!=1.8.1,<3.0.0,>=1.7.4->spacy) (2.23.4)\n",
            "Requirement already satisfied: typing-extensions>=4.6.1 in /usr/local/lib/python3.10/dist-packages (from pydantic!=1.8,!=1.8.1,<3.0.0,>=1.7.4->spacy) (4.12.2)\n",
            "Requirement already satisfied: charset-normalizer<4,>=2 in /usr/local/lib/python3.10/dist-packages (from requests<3.0.0,>=2.13.0->spacy) (3.3.2)\n",
            "Requirement already satisfied: idna<4,>=2.5 in /usr/local/lib/python3.10/dist-packages (from requests<3.0.0,>=2.13.0->spacy) (3.10)\n",
            "Requirement already satisfied: urllib3<3,>=1.21.1 in /usr/local/lib/python3.10/dist-packages (from requests<3.0.0,>=2.13.0->spacy) (2.2.3)\n",
            "Requirement already satisfied: certifi>=2017.4.17 in /usr/local/lib/python3.10/dist-packages (from requests<3.0.0,>=2.13.0->spacy) (2024.8.30)\n",
            "Requirement already satisfied: blis<0.8.0,>=0.7.8 in /usr/local/lib/python3.10/dist-packages (from thinc<8.3.0,>=8.2.2->spacy) (0.7.11)\n",
            "Requirement already satisfied: confection<1.0.0,>=0.0.1 in /usr/local/lib/python3.10/dist-packages (from thinc<8.3.0,>=8.2.2->spacy) (0.1.5)\n",
            "Requirement already satisfied: click>=8.0.0 in /usr/local/lib/python3.10/dist-packages (from typer<1.0.0,>=0.3.0->spacy) (8.1.7)\n",
            "Requirement already satisfied: shellingham>=1.3.0 in /usr/local/lib/python3.10/dist-packages (from typer<1.0.0,>=0.3.0->spacy) (1.5.4)\n",
            "Requirement already satisfied: rich>=10.11.0 in /usr/local/lib/python3.10/dist-packages (from typer<1.0.0,>=0.3.0->spacy) (13.8.1)\n",
            "Requirement already satisfied: cloudpathlib<1.0.0,>=0.7.0 in /usr/local/lib/python3.10/dist-packages (from weasel<0.5.0,>=0.1.0->spacy) (0.19.0)\n",
            "Requirement already satisfied: smart-open<8.0.0,>=5.2.1 in /usr/local/lib/python3.10/dist-packages (from weasel<0.5.0,>=0.1.0->spacy) (7.0.4)\n",
            "Requirement already satisfied: MarkupSafe>=2.0 in /usr/local/lib/python3.10/dist-packages (from jinja2->spacy) (2.1.5)\n",
            "Requirement already satisfied: marisa-trie>=0.7.7 in /usr/local/lib/python3.10/dist-packages (from language-data>=1.2->langcodes<4.0.0,>=3.2.0->spacy) (1.2.0)\n",
            "Requirement already satisfied: markdown-it-py>=2.2.0 in /usr/local/lib/python3.10/dist-packages (from rich>=10.11.0->typer<1.0.0,>=0.3.0->spacy) (3.0.0)\n",
            "Requirement already satisfied: pygments<3.0.0,>=2.13.0 in /usr/local/lib/python3.10/dist-packages (from rich>=10.11.0->typer<1.0.0,>=0.3.0->spacy) (2.18.0)\n",
            "Requirement already satisfied: wrapt in /usr/local/lib/python3.10/dist-packages (from smart-open<8.0.0,>=5.2.1->weasel<0.5.0,>=0.1.0->spacy) (1.16.0)\n",
            "Requirement already satisfied: mdurl~=0.1 in /usr/local/lib/python3.10/dist-packages (from markdown-it-py>=2.2.0->rich>=10.11.0->typer<1.0.0,>=0.3.0->spacy) (0.1.2)\n",
            "Collecting spacy_transformers\n",
            "  Downloading spacy_transformers-1.3.5-cp310-cp310-manylinux_2_17_x86_64.manylinux2014_x86_64.whl.metadata (7.0 kB)\n",
            "Requirement already satisfied: spacy<4.1.0,>=3.5.0 in /usr/local/lib/python3.10/dist-packages (from spacy_transformers) (3.7.6)\n",
            "Collecting transformers<4.37.0,>=3.4.0 (from spacy_transformers)\n",
            "  Downloading transformers-4.36.2-py3-none-any.whl.metadata (126 kB)\n",
            "\u001b[2K     \u001b[90m━━━━━━━━━━━━━━━━━━━━━━━━━━━━━━━━━━━━━━━━\u001b[0m \u001b[32m126.8/126.8 kB\u001b[0m \u001b[31m5.1 MB/s\u001b[0m eta \u001b[36m0:00:00\u001b[0m\n",
            "\u001b[?25hRequirement already satisfied: torch>=1.8.0 in /usr/local/lib/python3.10/dist-packages (from spacy_transformers) (2.4.1+cu121)\n",
            "Requirement already satisfied: srsly<3.0.0,>=2.4.0 in /usr/local/lib/python3.10/dist-packages (from spacy_transformers) (2.4.8)\n",
            "Collecting spacy-alignments<1.0.0,>=0.7.2 (from spacy_transformers)\n",
            "  Downloading spacy_alignments-0.9.1-cp310-cp310-manylinux_2_17_x86_64.manylinux2014_x86_64.whl.metadata (2.7 kB)\n",
            "Requirement already satisfied: numpy>=1.19.0 in /usr/local/lib/python3.10/dist-packages (from spacy_transformers) (1.26.4)\n",
            "Requirement already satisfied: spacy-legacy<3.1.0,>=3.0.11 in /usr/local/lib/python3.10/dist-packages (from spacy<4.1.0,>=3.5.0->spacy_transformers) (3.0.12)\n",
            "Requirement already satisfied: spacy-loggers<2.0.0,>=1.0.0 in /usr/local/lib/python3.10/dist-packages (from spacy<4.1.0,>=3.5.0->spacy_transformers) (1.0.5)\n",
            "Requirement already satisfied: murmurhash<1.1.0,>=0.28.0 in /usr/local/lib/python3.10/dist-packages (from spacy<4.1.0,>=3.5.0->spacy_transformers) (1.0.10)\n",
            "Requirement already satisfied: cymem<2.1.0,>=2.0.2 in /usr/local/lib/python3.10/dist-packages (from spacy<4.1.0,>=3.5.0->spacy_transformers) (2.0.8)\n",
            "Requirement already satisfied: preshed<3.1.0,>=3.0.2 in /usr/local/lib/python3.10/dist-packages (from spacy<4.1.0,>=3.5.0->spacy_transformers) (3.0.9)\n",
            "Requirement already satisfied: thinc<8.3.0,>=8.2.2 in /usr/local/lib/python3.10/dist-packages (from spacy<4.1.0,>=3.5.0->spacy_transformers) (8.2.5)\n",
            "Requirement already satisfied: wasabi<1.2.0,>=0.9.1 in /usr/local/lib/python3.10/dist-packages (from spacy<4.1.0,>=3.5.0->spacy_transformers) (1.1.3)\n",
            "Requirement already satisfied: catalogue<2.1.0,>=2.0.6 in /usr/local/lib/python3.10/dist-packages (from spacy<4.1.0,>=3.5.0->spacy_transformers) (2.0.10)\n",
            "Requirement already satisfied: weasel<0.5.0,>=0.1.0 in /usr/local/lib/python3.10/dist-packages (from spacy<4.1.0,>=3.5.0->spacy_transformers) (0.4.1)\n",
            "Requirement already satisfied: typer<1.0.0,>=0.3.0 in /usr/local/lib/python3.10/dist-packages (from spacy<4.1.0,>=3.5.0->spacy_transformers) (0.12.5)\n",
            "Requirement already satisfied: tqdm<5.0.0,>=4.38.0 in /usr/local/lib/python3.10/dist-packages (from spacy<4.1.0,>=3.5.0->spacy_transformers) (4.66.5)\n",
            "Requirement already satisfied: requests<3.0.0,>=2.13.0 in /usr/local/lib/python3.10/dist-packages (from spacy<4.1.0,>=3.5.0->spacy_transformers) (2.32.3)\n",
            "Requirement already satisfied: pydantic!=1.8,!=1.8.1,<3.0.0,>=1.7.4 in /usr/local/lib/python3.10/dist-packages (from spacy<4.1.0,>=3.5.0->spacy_transformers) (2.9.2)\n",
            "Requirement already satisfied: jinja2 in /usr/local/lib/python3.10/dist-packages (from spacy<4.1.0,>=3.5.0->spacy_transformers) (3.1.4)\n",
            "Requirement already satisfied: setuptools in /usr/local/lib/python3.10/dist-packages (from spacy<4.1.0,>=3.5.0->spacy_transformers) (71.0.4)\n",
            "Requirement already satisfied: packaging>=20.0 in /usr/local/lib/python3.10/dist-packages (from spacy<4.1.0,>=3.5.0->spacy_transformers) (24.1)\n",
            "Requirement already satisfied: langcodes<4.0.0,>=3.2.0 in /usr/local/lib/python3.10/dist-packages (from spacy<4.1.0,>=3.5.0->spacy_transformers) (3.4.0)\n",
            "Requirement already satisfied: filelock in /usr/local/lib/python3.10/dist-packages (from torch>=1.8.0->spacy_transformers) (3.16.1)\n",
            "Requirement already satisfied: typing-extensions>=4.8.0 in /usr/local/lib/python3.10/dist-packages (from torch>=1.8.0->spacy_transformers) (4.12.2)\n",
            "Requirement already satisfied: sympy in /usr/local/lib/python3.10/dist-packages (from torch>=1.8.0->spacy_transformers) (1.13.3)\n",
            "Requirement already satisfied: networkx in /usr/local/lib/python3.10/dist-packages (from torch>=1.8.0->spacy_transformers) (3.3)\n",
            "Requirement already satisfied: fsspec in /usr/local/lib/python3.10/dist-packages (from torch>=1.8.0->spacy_transformers) (2024.6.1)\n",
            "Requirement already satisfied: huggingface-hub<1.0,>=0.19.3 in /usr/local/lib/python3.10/dist-packages (from transformers<4.37.0,>=3.4.0->spacy_transformers) (0.24.7)\n",
            "Requirement already satisfied: pyyaml>=5.1 in /usr/local/lib/python3.10/dist-packages (from transformers<4.37.0,>=3.4.0->spacy_transformers) (6.0.2)\n",
            "Requirement already satisfied: regex!=2019.12.17 in /usr/local/lib/python3.10/dist-packages (from transformers<4.37.0,>=3.4.0->spacy_transformers) (2024.9.11)\n",
            "Collecting tokenizers<0.19,>=0.14 (from transformers<4.37.0,>=3.4.0->spacy_transformers)\n",
            "  Downloading tokenizers-0.15.2-cp310-cp310-manylinux_2_17_x86_64.manylinux2014_x86_64.whl.metadata (6.7 kB)\n",
            "Requirement already satisfied: safetensors>=0.3.1 in /usr/local/lib/python3.10/dist-packages (from transformers<4.37.0,>=3.4.0->spacy_transformers) (0.4.5)\n",
            "Requirement already satisfied: language-data>=1.2 in /usr/local/lib/python3.10/dist-packages (from langcodes<4.0.0,>=3.2.0->spacy<4.1.0,>=3.5.0->spacy_transformers) (1.2.0)\n",
            "Requirement already satisfied: annotated-types>=0.6.0 in /usr/local/lib/python3.10/dist-packages (from pydantic!=1.8,!=1.8.1,<3.0.0,>=1.7.4->spacy<4.1.0,>=3.5.0->spacy_transformers) (0.7.0)\n",
            "Requirement already satisfied: pydantic-core==2.23.4 in /usr/local/lib/python3.10/dist-packages (from pydantic!=1.8,!=1.8.1,<3.0.0,>=1.7.4->spacy<4.1.0,>=3.5.0->spacy_transformers) (2.23.4)\n",
            "Requirement already satisfied: charset-normalizer<4,>=2 in /usr/local/lib/python3.10/dist-packages (from requests<3.0.0,>=2.13.0->spacy<4.1.0,>=3.5.0->spacy_transformers) (3.3.2)\n",
            "Requirement already satisfied: idna<4,>=2.5 in /usr/local/lib/python3.10/dist-packages (from requests<3.0.0,>=2.13.0->spacy<4.1.0,>=3.5.0->spacy_transformers) (3.10)\n",
            "Requirement already satisfied: urllib3<3,>=1.21.1 in /usr/local/lib/python3.10/dist-packages (from requests<3.0.0,>=2.13.0->spacy<4.1.0,>=3.5.0->spacy_transformers) (2.2.3)\n",
            "Requirement already satisfied: certifi>=2017.4.17 in /usr/local/lib/python3.10/dist-packages (from requests<3.0.0,>=2.13.0->spacy<4.1.0,>=3.5.0->spacy_transformers) (2024.8.30)\n",
            "Requirement already satisfied: blis<0.8.0,>=0.7.8 in /usr/local/lib/python3.10/dist-packages (from thinc<8.3.0,>=8.2.2->spacy<4.1.0,>=3.5.0->spacy_transformers) (0.7.11)\n",
            "Requirement already satisfied: confection<1.0.0,>=0.0.1 in /usr/local/lib/python3.10/dist-packages (from thinc<8.3.0,>=8.2.2->spacy<4.1.0,>=3.5.0->spacy_transformers) (0.1.5)\n",
            "Requirement already satisfied: click>=8.0.0 in /usr/local/lib/python3.10/dist-packages (from typer<1.0.0,>=0.3.0->spacy<4.1.0,>=3.5.0->spacy_transformers) (8.1.7)\n",
            "Requirement already satisfied: shellingham>=1.3.0 in /usr/local/lib/python3.10/dist-packages (from typer<1.0.0,>=0.3.0->spacy<4.1.0,>=3.5.0->spacy_transformers) (1.5.4)\n",
            "Requirement already satisfied: rich>=10.11.0 in /usr/local/lib/python3.10/dist-packages (from typer<1.0.0,>=0.3.0->spacy<4.1.0,>=3.5.0->spacy_transformers) (13.8.1)\n",
            "Requirement already satisfied: cloudpathlib<1.0.0,>=0.7.0 in /usr/local/lib/python3.10/dist-packages (from weasel<0.5.0,>=0.1.0->spacy<4.1.0,>=3.5.0->spacy_transformers) (0.19.0)\n",
            "Requirement already satisfied: smart-open<8.0.0,>=5.2.1 in /usr/local/lib/python3.10/dist-packages (from weasel<0.5.0,>=0.1.0->spacy<4.1.0,>=3.5.0->spacy_transformers) (7.0.4)\n",
            "Requirement already satisfied: MarkupSafe>=2.0 in /usr/local/lib/python3.10/dist-packages (from jinja2->spacy<4.1.0,>=3.5.0->spacy_transformers) (2.1.5)\n",
            "Requirement already satisfied: mpmath<1.4,>=1.1.0 in /usr/local/lib/python3.10/dist-packages (from sympy->torch>=1.8.0->spacy_transformers) (1.3.0)\n",
            "Requirement already satisfied: marisa-trie>=0.7.7 in /usr/local/lib/python3.10/dist-packages (from language-data>=1.2->langcodes<4.0.0,>=3.2.0->spacy<4.1.0,>=3.5.0->spacy_transformers) (1.2.0)\n",
            "Requirement already satisfied: markdown-it-py>=2.2.0 in /usr/local/lib/python3.10/dist-packages (from rich>=10.11.0->typer<1.0.0,>=0.3.0->spacy<4.1.0,>=3.5.0->spacy_transformers) (3.0.0)\n",
            "Requirement already satisfied: pygments<3.0.0,>=2.13.0 in /usr/local/lib/python3.10/dist-packages (from rich>=10.11.0->typer<1.0.0,>=0.3.0->spacy<4.1.0,>=3.5.0->spacy_transformers) (2.18.0)\n",
            "Requirement already satisfied: wrapt in /usr/local/lib/python3.10/dist-packages (from smart-open<8.0.0,>=5.2.1->weasel<0.5.0,>=0.1.0->spacy<4.1.0,>=3.5.0->spacy_transformers) (1.16.0)\n",
            "Requirement already satisfied: mdurl~=0.1 in /usr/local/lib/python3.10/dist-packages (from markdown-it-py>=2.2.0->rich>=10.11.0->typer<1.0.0,>=0.3.0->spacy<4.1.0,>=3.5.0->spacy_transformers) (0.1.2)\n",
            "Downloading spacy_transformers-1.3.5-cp310-cp310-manylinux_2_17_x86_64.manylinux2014_x86_64.whl (197 kB)\n",
            "\u001b[2K   \u001b[90m━━━━━━━━━━━━━━━━━━━━━━━━━━━━━━━━━━━━━━━━\u001b[0m \u001b[32m197.8/197.8 kB\u001b[0m \u001b[31m13.0 MB/s\u001b[0m eta \u001b[36m0:00:00\u001b[0m\n",
            "\u001b[?25hDownloading spacy_alignments-0.9.1-cp310-cp310-manylinux_2_17_x86_64.manylinux2014_x86_64.whl (313 kB)\n",
            "\u001b[2K   \u001b[90m━━━━━━━━━━━━━━━━━━━━━━━━━━━━━━━━━━━━━━━━\u001b[0m \u001b[32m314.0/314.0 kB\u001b[0m \u001b[31m5.5 MB/s\u001b[0m eta \u001b[36m0:00:00\u001b[0m\n",
            "\u001b[?25hDownloading transformers-4.36.2-py3-none-any.whl (8.2 MB)\n",
            "\u001b[2K   \u001b[90m━━━━━━━━━━━━━━━━━━━━━━━━━━━━━━━━━━━━━━━━\u001b[0m \u001b[32m8.2/8.2 MB\u001b[0m \u001b[31m92.6 MB/s\u001b[0m eta \u001b[36m0:00:00\u001b[0m\n",
            "\u001b[?25hDownloading tokenizers-0.15.2-cp310-cp310-manylinux_2_17_x86_64.manylinux2014_x86_64.whl (3.6 MB)\n",
            "\u001b[2K   \u001b[90m━━━━━━━━━━━━━━━━━━━━━━━━━━━━━━━━━━━━━━━━\u001b[0m \u001b[32m3.6/3.6 MB\u001b[0m \u001b[31m84.7 MB/s\u001b[0m eta \u001b[36m0:00:00\u001b[0m\n",
            "\u001b[?25hInstalling collected packages: spacy-alignments, tokenizers, transformers, spacy_transformers\n",
            "  Attempting uninstall: tokenizers\n",
            "    Found existing installation: tokenizers 0.19.1\n",
            "    Uninstalling tokenizers-0.19.1:\n",
            "      Successfully uninstalled tokenizers-0.19.1\n",
            "  Attempting uninstall: transformers\n",
            "    Found existing installation: transformers 4.44.2\n",
            "    Uninstalling transformers-4.44.2:\n",
            "      Successfully uninstalled transformers-4.44.2\n",
            "Successfully installed spacy-alignments-0.9.1 spacy_transformers-1.3.5 tokenizers-0.15.2 transformers-4.36.2\n"
          ]
        }
      ],
      "source": [
        "!pip install -U spacy\n",
        "!pip install spacy_transformers"
      ]
    },
    {
      "cell_type": "code",
      "execution_count": null,
      "metadata": {
        "id": "gOWbg8BLWy7I"
      },
      "outputs": [],
      "source": [
        "import spacy\n",
        "from spacy.tokens import DocBin"
      ]
    },
    {
      "cell_type": "code",
      "execution_count": null,
      "metadata": {
        "colab": {
          "base_uri": "https://localhost:8080/",
          "height": 53
        },
        "id": "qU97PhVVQ5kL",
        "outputId": "104ec915-8f44-4af3-9a88-c8a771d9e061"
      },
      "outputs": [
        {
          "output_type": "execute_result",
          "data": {
            "text/plain": [
              "\"for dirname, _, filenames in os.walk('/kaggle/input'):\\n    for filename in filenames:\\n        print(os.path.join(dirname, filename))\""
            ],
            "application/vnd.google.colaboratory.intrinsic+json": {
              "type": "string"
            }
          },
          "metadata": {},
          "execution_count": 4
        }
      ],
      "source": [
        "from tqdm import tqdm\n",
        "import json\n",
        "import pickle\n",
        "import random\n",
        "import os\n",
        "'''for dirname, _, filenames in os.walk('/kaggle/input'):\n",
        "    for filename in filenames:\n",
        "        print(os.path.join(dirname, filename))'''"
      ]
    },
    {
      "cell_type": "markdown",
      "metadata": {
        "id": "VfR9ryOkbtzF"
      },
      "source": [
        "# 2"
      ]
    },
    {
      "cell_type": "markdown",
      "metadata": {
        "id": "VJodX_FUQ5kM"
      },
      "source": [
        "<div style=\"color:white;display:fill;border-radius:8px;\n",
        "            background-color:#FFE5B4;font-size:150%;\n",
        "            letter-spacing:1.0px\">\n",
        "    <p style=\"padding: 8px;color:white;\"><b><b><span style='color:#2B0245'> 2 | Losding the data</span></b></b></p>\n",
        "</div>"
      ]
    },
    {
      "cell_type": "code",
      "execution_count": null,
      "metadata": {
        "id": "1do30BEhQ5kM"
      },
      "outputs": [],
      "source": [
        "#train_data = pickle.load(open('/content/drive/MyDrive/Colab Notebooks/Resume Analyser/data/data_summarise_info/training/train_data.pkl','rb'))\n",
        "train_data = json.load(open('/content/drive/MyDrive/Colab_Notebooks/Resume_Analyser/data/data_summarise_info/training/train_data.json','r'))"
      ]
    },
    {
      "cell_type": "code",
      "execution_count": null,
      "metadata": {
        "colab": {
          "base_uri": "https://localhost:8080/"
        },
        "id": "VmqofWowQ5kN",
        "outputId": "8cf5d1bd-a909-4720-a05b-ea16df84fd93"
      },
      "outputs": [
        {
          "data": {
            "text/plain": [
              "['Govardhana K Senior Software Engineer  Bengaluru, Karnataka, Karnataka - Email me on Indeed: indeed.com/r/Govardhana-K/ b2de315d95905b68  Total IT experience 5 Years 6 Months Cloud Lending Solutions INC 4 Month • Salesforce Developer Oracle 5 Years 2 Month • Core Java Developer Languages Core Java, Go Lang Oracle PL-SQL programming, Sales Force Developer with APEX.  Designations & Promotions  Willing to relocate: Anywhere  WORK EXPERIENCE  Senior Software Engineer  Cloud Lending Solutions -  Bangalore, Karnataka -  January 2018 to Present  Present  Senior Consultant  Oracle -  Bangalore, Karnataka -  November 2016 to December 2017  Staff Consultant  Oracle -  Bangalore, Karnataka -  January 2014 to October 2016  Associate Consultant  Oracle -  Bangalore, Karnataka -  November 2012 to December 2013  EDUCATION  B.E in Computer Science Engineering  Adithya Institute of Technology -  Tamil Nadu  September 2008 to June 2012  https://www.indeed.com/r/Govardhana-K/b2de315d95905b68?isid=rex-download&ikw=download-top&co=IN https://www.indeed.com/r/Govardhana-K/b2de315d95905b68?isid=rex-download&ikw=download-top&co=IN   SKILLS  APEX. (Less than 1 year), Data Structures (3 years), FLEXCUBE (5 years), Oracle (5 years), Algorithms (3 years)  LINKS  https://www.linkedin.com/in/govardhana-k-61024944/  ADDITIONAL INFORMATION  Technical Proficiency:  Languages: Core Java, Go Lang, Data Structures & Algorithms, Oracle PL-SQL programming, Sales Force with APEX. Tools: RADTool, Jdeveloper, NetBeans, Eclipse, SQL developer, PL/SQL Developer, WinSCP, Putty Web Technologies: JavaScript, XML, HTML, Webservice  Operating Systems: Linux, Windows Version control system SVN & Git-Hub Databases: Oracle Middleware: Web logic, OC4J Product FLEXCUBE: Oracle FLEXCUBE Versions 10.x, 11.x and 12.x  https://www.linkedin.com/in/govardhana-k-61024944/',\n",
              " {'entities': [[1749, 1755, 'Companies worked at'],\n",
              "   [1696, 1702, 'Companies worked at'],\n",
              "   [1417, 1423, 'Companies worked at'],\n",
              "   [1356, 1793, 'Skills'],\n",
              "   [1209, 1215, 'Companies worked at'],\n",
              "   [1136, 1247, 'Skills'],\n",
              "   [928, 932, 'Graduation Year'],\n",
              "   [858, 889, 'College Name'],\n",
              "   [821, 856, 'Degree'],\n",
              "   [787, 791, 'Graduation Year'],\n",
              "   [744, 750, 'Companies worked at'],\n",
              "   [722, 742, 'Designation'],\n",
              "   [658, 664, 'Companies worked at'],\n",
              "   [640, 656, 'Designation'],\n",
              "   [574, 580, 'Companies worked at'],\n",
              "   [555, 572, 'Designation'],\n",
              "   [470, 493, 'Companies worked at'],\n",
              "   [444, 468, 'Designation'],\n",
              "   [308, 314, 'Companies worked at'],\n",
              "   [234, 240, 'Companies worked at'],\n",
              "   [175, 198, 'Companies worked at'],\n",
              "   [93, 136, 'Email Address'],\n",
              "   [39, 48, 'Location'],\n",
              "   [13, 37, 'Designation'],\n",
              "   [0, 12, 'Name']]}]"
            ]
          },
          "execution_count": 6,
          "metadata": {},
          "output_type": "execute_result"
        }
      ],
      "source": [
        "# Let's see the data\n",
        "train_data[0]"
      ]
    },
    {
      "cell_type": "markdown",
      "metadata": {
        "id": "gzn3RWFKbvkK"
      },
      "source": [
        "# 3"
      ]
    },
    {
      "cell_type": "markdown",
      "metadata": {
        "id": "_iM3_QUsQ5kN"
      },
      "source": [
        "<div style=\"color:white;display:fill;border-radius:8px;\n",
        "            background-color:#FFE5B4;font-size:150%;\n",
        "            letter-spacing:1.0px\">\n",
        "    <p style=\"padding: 8px;color:white;\"><b><b><span style='color:#2B0245'> 3 | Training the data on the model</span></b></b></p>\n",
        "</div>"
      ]
    },
    {
      "cell_type": "markdown",
      "metadata": {
        "id": "YgXXEfh0Q5kN"
      },
      "source": [
        "We will first load a black SpaCy english model. Then we will write a function which will take the training data as the input. In the function, first we will add a ner i.e. Named Entity Recognition in the last position in the pipeline. Then we will add our custom labels in the pipeline."
      ]
    },
    {
      "cell_type": "code",
      "execution_count": null,
      "metadata": {
        "colab": {
          "base_uri": "https://localhost:8080/",
          "height": 35
        },
        "id": "BqthG7Nzlo_b",
        "outputId": "772b9088-f0f5-4b72-f08a-2813a8c15d06"
      },
      "outputs": [
        {
          "data": {
            "application/vnd.google.colaboratory.intrinsic+json": {
              "type": "string"
            },
            "text/plain": [
              "'/content'"
            ]
          },
          "execution_count": 7,
          "metadata": {},
          "output_type": "execute_result"
        }
      ],
      "source": [
        "pwd"
      ]
    },
    {
      "cell_type": "code",
      "execution_count": null,
      "metadata": {
        "colab": {
          "base_uri": "https://localhost:8080/"
        },
        "id": "CBRhkTzcXf5s",
        "outputId": "c38847c2-ee98-4db8-82d0-c63c11178475"
      },
      "outputs": [
        {
          "name": "stdout",
          "output_type": "stream",
          "text": [
            "/usr/local/lib/python3.10/dist-packages/transformers/utils/generic.py:441: FutureWarning: `torch.utils._pytree._register_pytree_node` is deprecated. Please use `torch.utils._pytree.register_pytree_node` instead.\n",
            "  _torch_pytree._register_pytree_node(\n",
            "/usr/local/lib/python3.10/dist-packages/transformers/utils/generic.py:309: FutureWarning: `torch.utils._pytree._register_pytree_node` is deprecated. Please use `torch.utils._pytree.register_pytree_node` instead.\n",
            "  _torch_pytree._register_pytree_node(\n",
            "\u001b[38;5;2m✔ Auto-filled config with all values\u001b[0m\n",
            "\u001b[38;5;2m✔ Saved config\u001b[0m\n",
            "/content/drive/MyDrive/Colab_Notebooks/Resume_Analyser/2.version/parser_ner_config/config.cfg\n",
            "You can now add your data and train your pipeline:\n",
            "python -m spacy train config.cfg --paths.train ./train.spacy --paths.dev ./dev.spacy\n"
          ]
        }
      ],
      "source": [
        "!python -m spacy init fill-config /content/drive/MyDrive/Colab_Notebooks/Resume_Analyser/2.version/parser_ner_config/base_config.cfg /content/drive/MyDrive/Colab_Notebooks/Resume_Analyser/2.version/parser_ner_config/config.cfg"
      ]
    },
    {
      "cell_type": "code",
      "execution_count": null,
      "metadata": {
        "id": "VF4pP5GOYY1X"
      },
      "outputs": [],
      "source": [
        "def get_spacy_doc(file, data):\n",
        "\n",
        "  nlp = spacy.blank(\"en\")\n",
        "  db = DocBin()\n",
        "\n",
        "  for text, annot in tqdm(data):\n",
        "    doc = nlp.make_doc(text)\n",
        "    annot = annot['entities']\n",
        "\n",
        "    ents = []\n",
        "    entity_indices = []\n",
        "\n",
        "    for start, end, label in annot:\n",
        "      skip_entity = False\n",
        "      for idx in range(start, end):\n",
        "        if idx in entity_indices:\n",
        "          skip_entity = True\n",
        "          break\n",
        "      if skip_entity == True:\n",
        "        continue\n",
        "\n",
        "      entity_indices = entity_indices + list(range(start, end))\n",
        "      try:\n",
        "        span = doc.char_span(start, end, label = label, alignment_mode = 'strict')\n",
        "      except:\n",
        "        continue\n",
        "\n",
        "      if span is None:\n",
        "        err_data = str([start, end]) + \"    \" + str(text) + '\\n'\n",
        "        file.write(err_data)\n",
        "      else:\n",
        "        ents.append(span)\n",
        "\n",
        "    try:\n",
        "      doc.ents = ents\n",
        "      db.add(doc)\n",
        "    except:\n",
        "      pass\n",
        "\n",
        "  return db"
      ]
    },
    {
      "cell_type": "code",
      "execution_count": null,
      "metadata": {
        "id": "cEo1k8jtZORz"
      },
      "outputs": [],
      "source": [
        "from sklearn.model_selection import train_test_split\n",
        "train, dev = train_test_split(train_data, test_size = 0.2, random_state = 42)"
      ]
    },
    {
      "cell_type": "code",
      "execution_count": null,
      "metadata": {
        "colab": {
          "base_uri": "https://localhost:8080/"
        },
        "id": "cPvFvg1vZTev",
        "outputId": "b015287e-f92a-4066-a778-9e65b0542c49"
      },
      "outputs": [
        {
          "name": "stderr",
          "output_type": "stream",
          "text": [
            "/usr/local/lib/python3.10/dist-packages/spacy/util.py:1740: UserWarning: [W111] Jupyter notebook detected: if using `prefer_gpu()` or `require_gpu()`, include it in the same cell right before `spacy.load()` to ensure that the model is loaded on the correct device. More information: http://spacy.io/usage/v3#jupyter-notebook-gpu\n",
            "  warnings.warn(Warnings.W111)\n",
            "100%|██████████| 160/160 [00:01<00:00, 98.07it/s]\n",
            "100%|██████████| 40/40 [00:00<00:00, 95.62it/s] \n"
          ]
        }
      ],
      "source": [
        "file = open('/content/drive/MyDrive/Colab_Notebooks/Resume_Analyser/2.version/parser_ner_model/train_file.txt','w')\n",
        "\n",
        "db = get_spacy_doc(file, train)\n",
        "db.to_disk('/content/drive/MyDrive/Colab_Notebooks/Resume_Analyser/2.version/parser_ner_model/train.spacy')\n",
        "\n",
        "db = get_spacy_doc(file, dev)\n",
        "db.to_disk('/content/drive/MyDrive/Colab_Notebooks/Resume_Analyser/2.version/parser_ner_model/dev.spacy')\n",
        "\n",
        "file.close()"
      ]
    },
    {
      "cell_type": "code",
      "execution_count": null,
      "metadata": {
        "colab": {
          "base_uri": "https://localhost:8080/"
        },
        "id": "MiHKXyivadjr",
        "outputId": "90fe201e-361c-4fee-b0b4-dd4d468171c7"
      },
      "outputs": [
        {
          "output_type": "stream",
          "name": "stdout",
          "text": [
            "\u001b[38;5;4mℹ Saving to output directory:\n",
            "/content/drive/MyDrive/Colab_Notebooks/Resume_Analyser/2.version/parser_ner_model/output\u001b[0m\n",
            "\u001b[38;5;4mℹ Using GPU: 0\u001b[0m\n",
            "\u001b[1m\n",
            "=========================== Initializing pipeline ===========================\u001b[0m\n",
            "/usr/local/lib/python3.10/dist-packages/transformers/utils/generic.py:441: FutureWarning: `torch.utils._pytree._register_pytree_node` is deprecated. Please use `torch.utils._pytree.register_pytree_node` instead.\n",
            "  _torch_pytree._register_pytree_node(\n",
            "/usr/local/lib/python3.10/dist-packages/transformers/utils/generic.py:309: FutureWarning: `torch.utils._pytree._register_pytree_node` is deprecated. Please use `torch.utils._pytree.register_pytree_node` instead.\n",
            "  _torch_pytree._register_pytree_node(\n",
            "/usr/local/lib/python3.10/dist-packages/huggingface_hub/file_download.py:1150: FutureWarning: `resume_download` is deprecated and will be removed in version 1.0.0. Downloads always resume when possible. If you want to force a new download, use `force_download=True`.\n",
            "  warnings.warn(\n",
            "/usr/local/lib/python3.10/dist-packages/transformers/utils/generic.py:309: FutureWarning: `torch.utils._pytree._register_pytree_node` is deprecated. Please use `torch.utils._pytree.register_pytree_node` instead.\n",
            "  _torch_pytree._register_pytree_node(\n",
            "Some weights of RobertaModel were not initialized from the model checkpoint at roberta-base and are newly initialized: ['roberta.pooler.dense.bias', 'roberta.pooler.dense.weight']\n",
            "You should probably TRAIN this model on a down-stream task to be able to use it for predictions and inference.\n",
            "/usr/local/lib/python3.10/dist-packages/thinc/shims/pytorch.py:114: FutureWarning: `torch.cuda.amp.autocast(args...)` is deprecated. Please use `torch.amp.autocast('cuda', args...)` instead.\n",
            "  with torch.cuda.amp.autocast(self._mixed_precision):\n",
            "\u001b[38;5;2m✔ Initialized pipeline\u001b[0m\n",
            "\u001b[1m\n",
            "============================= Training pipeline =============================\u001b[0m\n",
            "\u001b[38;5;4mℹ Pipeline: ['transformer', 'ner', 'parser']\u001b[0m\n",
            "\u001b[38;5;4mℹ Initial learn rate: 0.0\u001b[0m\n",
            "E    #       LOSS TRANS...  LOSS NER  LOSS PARSER  ENTS_F  ENTS_P  ENTS_R  DEP_UAS  DEP_LAS  SENTS_F  SCORE \n",
            "---  ------  -------------  --------  -----------  ------  ------  ------  -------  -------  -------  ------\n",
            "/usr/local/lib/python3.10/dist-packages/thinc/shims/pytorch.py:128: FutureWarning: `torch.cuda.amp.autocast(args...)` is deprecated. Please use `torch.amp.autocast('cuda', args...)` instead.\n",
            "  with torch.cuda.amp.autocast(self._mixed_precision):\n",
            "  0       0        9238.97   1544.76         0.00    0.36    0.19    6.18     0.00     0.00     0.00    0.00\n",
            "  3     200      244035.80  269411.49         0.00    0.39    0.21    2.69     0.00     0.00     0.00    0.00\n",
            "  7     400      386039.29  133492.86         0.00    0.00    0.00    0.00     0.00     0.00     0.00    0.00\n",
            " 10     600      197583.15  35521.98         0.00    0.00    0.00    0.00     0.00     0.00     0.00    0.00\n",
            " 14     800      103743.46  32110.14         0.00    0.00    0.00    0.00     0.00     0.00     0.00    0.00\n",
            " 17    1000      112859.56  27736.40         0.00    0.00    0.00    0.00     0.00     0.00     0.00    0.00\n",
            " 21    1200      258645.54  31105.45         0.00    0.00    0.00    0.00     0.00     0.00     0.00    0.00\n",
            " 24    1400      404944.58  28299.61         0.00    1.25   57.14    0.63     0.00     0.00     0.00    0.01\n",
            " 28    1600     1393861.46  36663.49         0.00    1.23   21.05    0.63     0.00     0.00     0.00    0.01\n",
            " 31    1800     5018567.09  56068.01         0.00    0.60    5.26    0.32     0.00     0.00     0.00    0.00\n",
            " 35    2000     2647665.02  44782.40         0.00   13.73   59.04    7.77     0.00     0.00     0.00    0.07\n",
            " 38    2200      895962.01  29216.22         0.00   12.61   65.67    6.97     0.00     0.00     0.00    0.06\n",
            " 42    2400     1069063.61  31057.11         0.00   13.67   56.98    7.77     0.00     0.00     0.00    0.07\n",
            " 45    2600     1260097.72  28272.83         0.00   14.66   57.61    8.40     0.00     0.00     0.00    0.07\n",
            " 49    2800     1047791.96  28812.87         0.00   15.97   54.63    9.35     0.00     0.00     0.00    0.08\n",
            " 52    3000     1998456.42  28315.26         0.00   16.82   53.39    9.98     0.00     0.00     0.00    0.08\n",
            " 56    3200     3155277.41  30492.06         0.00   14.82   41.30    9.03     0.00     0.00     0.00    0.07\n",
            " 59    3400     3426359.44  27586.37         0.00   14.61   45.08    8.72     0.00     0.00     0.00    0.07\n",
            " 63    3600     1867366.09  26394.76         0.00   17.88   48.94   10.94     0.00     0.00     0.00    0.09\n",
            " 66    3800     2258747.23  24670.31         0.00   17.40   48.20   10.62     0.00     0.00     0.00    0.09\n",
            " 70    4000     2195308.39  24806.76         0.00   20.35   49.09   12.84     0.00     0.00     0.00    0.10\n",
            " 73    4200     2576778.48  22983.75         0.00   20.95   45.26   13.63     0.00     0.00     0.00    0.10\n",
            " 77    4400     2463739.24  23189.51         0.00   23.14   45.37   15.53     0.00     0.00     0.00    0.12\n",
            " 80    4600     3373500.36  22182.25         0.00   22.41   43.78   15.06     0.00     0.00     0.00    0.11\n",
            " 84    4800     4834059.00  23326.26         0.00   22.79   42.79   15.53     0.00     0.00     0.00    0.11\n",
            " 87    5000     4682784.87  22409.38         0.00   23.08   43.61   15.69     0.00     0.00     0.00    0.12\n",
            " 91    5200     9057587.26  25678.10         0.00   24.51   45.30   16.80     0.00     0.00     0.00    0.12\n",
            " 94    5400    10344303.87  26405.90         0.00   22.33   47.67   14.58     0.00     0.00     0.00    0.11\n",
            " 98    5600     6692131.50  22567.60         0.00   19.70   44.20   12.68     0.00     0.00     0.00    0.10\n",
            "101    5800     3525975.14  19660.76         0.00   24.26   43.62   16.80     0.00     0.00     0.00    0.12\n",
            "105    6000     2222229.45  17596.26         0.00   24.77   43.78   17.27     0.00     0.00     0.00    0.12\n",
            "108    6200     3483643.85  17816.48         0.00   25.62   44.02   18.07     0.00     0.00     0.00    0.13\n",
            "112    6400     2114549.44  16736.90         0.00   26.53   44.74   18.86     0.00     0.00     0.00    0.13\n",
            "115    6600     3490969.23  16410.50         0.00   27.03   44.09   19.49     0.00     0.00     0.00    0.14\n",
            "119    6800     2258964.22  15673.10         0.00   27.64   44.10   20.13     0.00     0.00     0.00    0.14\n",
            "122    7000     3300060.31  16287.23         0.00   29.41   47.04   21.39     0.00     0.00     0.00    0.15\n",
            "126    7200     1940715.84  15074.11         0.00   29.34   45.21   21.71     0.00     0.00     0.00    0.15\n",
            "129    7400     2597522.90  15117.39         0.00   29.62   46.60   21.71     0.00     0.00     0.00    0.15\n",
            "133    7600     3120696.55  14926.54         0.00   31.24   49.48   22.82     0.00     0.00     0.00    0.16\n",
            "136    7800     4648945.96  14963.18         0.00   30.39   46.13   22.66     0.00     0.00     0.00    0.15\n",
            "140    8000     3513815.46  14118.78         0.00   31.89   47.78   23.93     0.00     0.00     0.00    0.16\n",
            "143    8200     3518489.32  14804.29         0.00   30.95   46.08   23.30     0.00     0.00     0.00    0.15\n",
            "147    8400     3526096.35  13860.01         0.00   32.03   47.80   24.09     0.00     0.00     0.00    0.16\n",
            "150    8600     3335878.58  13554.46         0.00   32.08   47.37   24.25     0.00     0.00     0.00    0.16\n",
            "154    8800     3645350.20  13085.07         0.00   33.40   49.53   25.20     0.00     0.00     0.00    0.17\n",
            "157    9000     4173850.33  14187.70         0.00   33.30   47.92   25.52     0.00     0.00     0.00    0.17\n",
            "161    9200     2895716.49  12342.80         0.00   33.92   48.81   25.99     0.00     0.00     0.00    0.17\n",
            "164    9400     5316192.11  13899.08         0.00   34.13   49.11   26.15     0.00     0.00     0.00    0.17\n",
            "168    9600     2599389.81  12252.03         0.00   34.02   48.67   26.15     0.00     0.00     0.00    0.17\n",
            "171    9800     4396956.13  14129.38         0.00   33.97   46.43   26.78     0.00     0.00     0.00    0.17\n",
            "175   10000     3260083.56  12159.66         0.00   33.64   48.22   25.83     0.00     0.00     0.00    0.17\n",
            "178   10200     6673715.76  13888.02         0.00   33.64   47.14   26.15     0.00     0.00     0.00    0.17\n",
            "182   10400     4168674.39  12079.65         0.00   33.33   46.97   25.83     0.00     0.00     0.00    0.17\n",
            "185   10600     2738022.78  12620.20         0.00   34.11   47.46   26.62     0.00     0.00     0.00    0.17\n",
            "189   10800     3846503.88  11923.24         0.00   33.87   47.04   26.47     0.00     0.00     0.00    0.17\n",
            "192   11000     4041871.68  12853.33         0.00   34.52   48.02   26.94     0.00     0.00     0.00    0.17\n",
            "196   11200     4148645.79  11391.07         0.00   34.35   47.88   26.78     0.00     0.00     0.00    0.17\n",
            "200   11400     4894181.31  12622.35         0.00   34.68   47.65   27.26     0.00     0.00     0.00    0.17\n",
            "203   11600     4176485.22  11244.26         0.00   35.03   49.00   27.26     0.00     0.00     0.00    0.18\n",
            "207   11800     3935881.56  12469.02         0.00   35.51   48.36   28.05     0.00     0.00     0.00    0.18\n",
            "210   12000     4533206.21  11489.45         0.00   35.86   48.26   28.53     0.00     0.00     0.00    0.18\n",
            "214   12200     5436042.61  12355.08         0.00   36.65   48.44   29.48     0.00     0.00     0.00    0.18\n",
            "217   12400     3711539.57  10824.15         0.00   36.22   48.66   28.84     0.00     0.00     0.00    0.18\n",
            "221   12600     3989712.31  12041.73         0.00   36.22   48.66   28.84     0.00     0.00     0.00    0.18\n",
            "224   12800     6652699.21  11427.78         0.00   35.88   47.88   28.68     0.00     0.00     0.00    0.18\n",
            "228   13000     5053961.16  12109.44         0.00   36.42   48.05   29.32     0.00     0.00     0.00    0.18\n",
            "231   13200     5470902.42  10970.17         0.00   36.27   49.32   28.68     0.00     0.00     0.00    0.18\n",
            "235   13400     4859824.40  11750.23         0.00   36.04   48.02   28.84     0.00     0.00     0.00    0.18\n",
            "238   13600     3235181.26  10310.39         0.00   36.40   48.42   29.16     0.00     0.00     0.00    0.18\n",
            "242   13800     2961154.05  11103.81         0.00   36.86   48.33   29.79     0.00     0.00     0.00    0.18\n",
            "245   14000     5217287.85  10935.02         0.00   36.62   49.20   29.16     0.00     0.00     0.00    0.18\n",
            "249   14200     5384087.50  12066.78         0.00   36.54   48.06   29.48     0.00     0.00     0.00    0.18\n",
            "252   14400     4700296.70  10684.40         0.00   36.42   48.93   29.00     0.00     0.00     0.00    0.18\n",
            "256   14600     4528282.32  11690.71         0.00   36.45   48.18   29.32     0.00     0.00     0.00    0.18\n",
            "259   14800     9200645.93  11305.31         0.00   36.93   49.87   29.32     0.00     0.00     0.00    0.18\n",
            "263   15000     4849308.16  11468.48         0.00   37.01   48.83   29.79     0.00     0.00     0.00    0.19\n",
            "266   15200     7209850.79  11413.33         0.00   36.90   49.34   29.48     0.00     0.00     0.00    0.18\n",
            "270   15400     4353203.07  11162.85         0.00   36.53   48.43   29.32     0.00     0.00     0.00    0.18\n",
            "273   15600     8297766.43  11114.98         0.00   37.01   49.73   29.48     0.00     0.00     0.00    0.19\n",
            "277   15800    10021915.13  12010.20         0.00   37.59   50.00   30.11     0.00     0.00     0.00    0.19\n"
          ]
        }
      ],
      "source": [
        "!python -m spacy train /content/drive/MyDrive/Colab_Notebooks/Resume_Analyser/2.version/parser_ner_config/config.cfg --output /content/drive/MyDrive/Colab_Notebooks/Resume_Analyser/2.version/parser_ner_model/output --paths.train /content/drive/MyDrive/Colab_Notebooks/Resume_Analyser/2.version/parser_ner_model/train.spacy --paths.dev /content/drive/MyDrive/Colab_Notebooks/Resume_Analyser/2.version/parser_ner_model/dev.spacy --gpu-id 0"
      ]
    },
    {
      "cell_type": "markdown",
      "metadata": {
        "id": "pWpoF4PTbmEI"
      },
      "source": [
        "# 4"
      ]
    },
    {
      "cell_type": "markdown",
      "metadata": {
        "id": "MlMK8koMQ5kO"
      },
      "source": [
        "<div style=\"color:white;display:fill;border-radius:8px;\n",
        "            background-color:#FFE5B4;font-size:150%;\n",
        "            letter-spacing:1.0px\">\n",
        "    <p style=\"padding: 8px;color:white;\"><b><b><span style='color:#2B0245'> 4 | Test Model testing</span></b></b></p>\n",
        "</div>\n",
        "\n",
        "\n",
        "Let's check out how our model is performing.\n",
        "For this we will pass a new resume to this model."
      ]
    },
    {
      "cell_type": "code",
      "execution_count": null,
      "metadata": {
        "colab": {
          "base_uri": "https://localhost:8080/"
        },
        "id": "4kcxwpn3Q5kO",
        "outputId": "3ad76ca4-4e26-4a3d-e490-f23d17ae5d62"
      },
      "outputs": [
        {
          "output_type": "stream",
          "name": "stdout",
          "text": [
            "Collecting PyMuPDF\n",
            "  Downloading PyMuPDF-1.24.10-cp310-none-manylinux2014_x86_64.whl.metadata (3.4 kB)\n",
            "Collecting PyMuPDFb==1.24.10 (from PyMuPDF)\n",
            "  Downloading PyMuPDFb-1.24.10-py3-none-manylinux2014_x86_64.manylinux_2_17_x86_64.whl.metadata (1.4 kB)\n",
            "Downloading PyMuPDF-1.24.10-cp310-none-manylinux2014_x86_64.whl (3.5 MB)\n",
            "\u001b[?25l   \u001b[90m━━━━━━━━━━━━━━━━━━━━━━━━━━━━━━━━━━━━━━━━\u001b[0m \u001b[32m0.0/3.5 MB\u001b[0m \u001b[31m?\u001b[0m eta \u001b[36m-:--:--\u001b[0m\r\u001b[2K   \u001b[91m━━━━━━━━━━━━━━━━━━━━━\u001b[0m\u001b[90m╺\u001b[0m\u001b[90m━━━━━━━━━━━━━━━━━━\u001b[0m \u001b[32m1.8/3.5 MB\u001b[0m \u001b[31m53.8 MB/s\u001b[0m eta \u001b[36m0:00:01\u001b[0m\r\u001b[2K   \u001b[91m━━━━━━━━━━━━━━━━━━━━━━━━━━━━━━━━━━━━━━━\u001b[0m\u001b[91m╸\u001b[0m \u001b[32m3.5/3.5 MB\u001b[0m \u001b[31m67.9 MB/s\u001b[0m eta \u001b[36m0:00:01\u001b[0m\r\u001b[2K   \u001b[90m━━━━━━━━━━━━━━━━━━━━━━━━━━━━━━━━━━━━━━━━\u001b[0m \u001b[32m3.5/3.5 MB\u001b[0m \u001b[31m44.3 MB/s\u001b[0m eta \u001b[36m0:00:00\u001b[0m\n",
            "\u001b[?25hDownloading PyMuPDFb-1.24.10-py3-none-manylinux2014_x86_64.manylinux_2_17_x86_64.whl (15.9 MB)\n",
            "\u001b[2K   \u001b[90m━━━━━━━━━━━━━━━━━━━━━━━━━━━━━━━━━━━━━━━━\u001b[0m \u001b[32m15.9/15.9 MB\u001b[0m \u001b[31m49.0 MB/s\u001b[0m eta \u001b[36m0:00:00\u001b[0m\n",
            "\u001b[?25hInstalling collected packages: PyMuPDFb, PyMuPDF\n",
            "Successfully installed PyMuPDF-1.24.10 PyMuPDFb-1.24.10\n"
          ]
        }
      ],
      "source": [
        "'''# Installing PyMuPDF for getting the text data from the resume pdf'''\n",
        "!pip install PyMuPDF"
      ]
    },
    {
      "cell_type": "code",
      "execution_count": null,
      "metadata": {
        "colab": {
          "base_uri": "https://localhost:8080/"
        },
        "id": "tKbsBkepQ5kP",
        "outputId": "178fc26b-8edf-4aaa-f8fb-b3ffea2cd3f3",
        "scrolled": true
      },
      "outputs": [
        {
          "output_type": "stream",
          "name": "stdout",
          "text": [
            "Alice Clark \n",
            "AI / Machine Learning \n",
            " \n",
            "Delhi, India Email me on Indeed \n",
            "• \n",
            "20+ years of experience in data handling, design, and development \n",
            "• \n",
            "Data Warehouse: Data analysis, star/snow flake scema data modelling and design specific to \n",
            "data warehousing and business intelligence \n",
            "• \n",
            "Database: Experience in database designing, scalability, back-up and recovery, writing and \n",
            "optimizing SQL code and Stored Procedures, creating functions, views, triggers and indexes. \n",
            "Cloud platform: Worked on Microsoft Azure cloud services like Document DB, SQL Azure, \n",
            "Stream Analytics, Event hub, Power BI, Web Job, Web App, Power BI, Azure data lake \n",
            "analytics(U-SQL) \n",
            "Willing to relocate anywhere \n",
            " \n",
            "WORK EXPERIENCE \n",
            "Software Engineer \n",
            "Microsoft – Bangalore, Karnataka \n",
            "January 2000 to Present \n",
            "1. Microsoft Rewards Live dashboards: \n",
            "Description: - Microsoft rewards is loyalty program that rewards Users for browsing and shopping \n",
            "online. Microsoft Rewards members can earn points when searching with Bing, browsing with \n",
            "Microsoft Edge and making purchases at the Xbox Store, the Windows Store and the Microsoft \n",
            "Store. Plus, user can pick up bonus points for taking daily quizzes and tours on the Microsoft \n",
            "rewards website. Rewards live dashboards gives a live picture of usage world-wide and by \n",
            "markets like US, Canada, Australia, new user registration count, top/bottom performing rewards \n",
            "offers, orders stats and weekly trends of user activities, orders and new user registrations. the \n",
            "PBI tiles gets refreshed in different frequencies starting from 5 seconds to 30 minutes. \n",
            "Technology/Tools used \n",
            " \n",
            "EDUCATION \n",
            "Indian Institute of Technology – Mumbai \n",
            "2001 \n",
            " \n",
            "SKILLS \n",
            "Machine Learning, Natural Language Processing, and Big Data Handling \n",
            " \n",
            "\n",
            "ADDITIONAL INFORMATION \n",
            "Professional Skills \n",
            "• Excellent analytical, problem solving, communication, knowledge transfer and interpersonal \n",
            "skills with ability to interact with individuals at all the levels \n",
            "• Quick learner and maintains cordial relationship with project manager and team members and \n",
            "good performer both in team and independent job environments \n",
            "• Positive attitude towards superiors &amp; peers \n",
            "• Supervised junior developers throughout project lifecycle and provided technical assistance \n",
            "\n",
            "Alice Clark  AI \n",
            " Machine Learning    Delhi, India Email me on Indeed  \n",
            "\t  20+ years of experience in data handling, design, and development  \n",
            "\t  Data Warehouse: Data analysis, star\n",
            "snow flake scema data modelling and design specific to  data warehousing and business intelligence  \n",
            "\t  Database: Experience in database designing, scalability, back-up and recovery, writing and  optimizing SQL code and Stored Procedures, creating functions, views, triggers and indexes\n",
            "  Cloud platform: Worked on Microsoft Azure cloud services like Document DB, SQL Azure,  Stream Analytics, Event hub, Power BI, Web Job, Web App, Power BI, Azure data lake  analytics(U-SQL)  Willing to relocate anywhere    WORK EXPERIENCE  Software Engineer  Microsoft – Bangalore, Karnataka  January 2000 to Present  1\n",
            " Microsoft Rewards Live dashboards:  Description: - Microsoft rewards is loyalty program that rewards Users for browsing and shopping  online\n",
            " Microsoft Rewards members can earn points when searching with Bing, browsing with  Microsoft Edge and making purchases at the Xbox Store, the Windows Store and the Microsoft  Store\n",
            " Plus, user can pick up bonus points for taking daily quizzes and tours on the Microsoft  rewards website\n",
            " Rewards live dashboards gives a live picture of usage world-wide and by  markets like US, Canada, Australia, new user registration count, top\n",
            "bottom performing rewards  offers, orders stats and weekly trends of user activities, orders and new user registrations\n",
            " the  PBI tiles gets refreshed in different frequencies starting from 5 seconds to 30 minutes\n",
            "  Technology\n",
            "Tools used    EDUCATION  Indian Institute of Technology – Mumbai  2001    SKILLS  Machine Learning, Natural Language Processing, and Big Data Handling    ADDITIONAL INFORMATION  Professional Skills  \n",
            "\t Excellent analytical, problem solving, communication, knowledge transfer and interpersonal  skills with ability to interact with individuals at all the levels  \n",
            "\t Quick learner and maintains cordial relationship with project manager and team members and  good performer both in team and independent job environments  \n",
            "\t Positive attitude towards superiors &amp; peers  \n",
            "\t Supervised junior developers throughout project lifecycle and provided technical assistance  \n"
          ]
        }
      ],
      "source": [
        "import re\n",
        "import sys, fitz\n",
        "\n",
        "# Compile the regex pattern to match \"Page\" followed by a number, \"of,\" and another number\n",
        "pattern = r\"Page \\d+ of \\d+\"\n",
        "\n",
        "fname = '/content/drive/MyDrive/Colab_Notebooks/Resume_Analyser/data/data_summarise_info/test/Alice Clark CV.pdf'\n",
        "\n",
        "doc = fitz.open(fname)\n",
        "pages_text = []\n",
        "# Iterate through each page\n",
        "for page_num in range(len(doc)):\n",
        "    # Get the page\n",
        "    page = doc.load_page(page_num)\n",
        "    # Extract text from the page\n",
        "    text = page.get_text()\n",
        "    # Append the text to the list\n",
        "    pages_text.append(text)\n",
        "# Close the document\n",
        "doc.close()\n",
        "\n",
        "text = \"\"\n",
        "for page in pages_text:\n",
        "    text = text + str(page)\n",
        "    page = re.sub(pattern, \"\", page)\n",
        "    print(page)\n",
        "\n",
        "tx = \" \".join(text.split('\\n'))  # for removing the next line character '/n'\n",
        "tx1 = tx.replace(\"/\", \"\\n\")\n",
        "tx2 = tx1.replace(\"•\", \"\\n\\t\")\n",
        "print(tx2.replace(\".\", \"\\n\"))"
      ]
    },
    {
      "cell_type": "code",
      "execution_count": null,
      "metadata": {
        "colab": {
          "base_uri": "https://localhost:8080/",
          "height": 174
        },
        "id": "4h15UzNp2cQ0",
        "outputId": "dd9e2b78-dadd-48ea-da29-b1e3648efd60"
      },
      "outputs": [
        {
          "output_type": "execute_result",
          "data": {
            "text/plain": [
              "'Alice Clark  AI \\n Machine Learning    Delhi, India Email me on Indeed  \\n\\t  20+ years of experience in data handling, design, and development  \\n\\t  Data Warehouse: Data analysis, star\\nsnow flake scema data modelling and design specific to  data warehousing and business intelligence  \\n\\t  Database: Experience in database designing, scalability, back-up and recovery, writing and  optimizing SQL code and Stored Procedures, creating functions, views, triggers and indexes.  Cloud platform: Worked on Microsoft Azure cloud services like Document DB, SQL Azure,  Stream Analytics, Event hub, Power BI, Web Job, Web App, Power BI, Azure data lake  analytics(U-SQL)  Willing to relocate anywhere    WORK EXPERIENCE  Software Engineer  Microsoft – Bangalore, Karnataka  January 2000 to Present  1. Microsoft Rewards Live dashboards:  Description: - Microsoft rewards is loyalty program that rewards Users for browsing and shopping  online. Microsoft Rewards members can earn points when searching with Bing, browsing with  Microsoft Edge and making purchases at the Xbox Store, the Windows Store and the Microsoft  Store. Plus, user can pick up bonus points for taking daily quizzes and tours on the Microsoft  rewards website. Rewards live dashboards gives a live picture of usage world-wide and by  markets like US, Canada, Australia, new user registration count, top\\nbottom performing rewards  offers, orders stats and weekly trends of user activities, orders and new user registrations. the  PBI tiles gets refreshed in different frequencies starting from 5 seconds to 30 minutes.  Technology\\nTools used    EDUCATION  Indian Institute of Technology – Mumbai  2001    SKILLS  Machine Learning, Natural Language Processing, and Big Data Handling    ADDITIONAL INFORMATION  Professional Skills  \\n\\t Excellent analytical, problem solving, communication, knowledge transfer and interpersonal  skills with ability to interact with individuals at all the levels  \\n\\t Quick learner and maintains cordial relationship with project manager and team members and  good performer both in team and independent job environments  \\n\\t Positive attitude towards superiors &amp; peers  \\n\\t Supervised junior developers throughout project lifecycle and provided technical assistance  '"
            ],
            "application/vnd.google.colaboratory.intrinsic+json": {
              "type": "string"
            }
          },
          "metadata": {},
          "execution_count": 18
        }
      ],
      "source": [
        "tx2"
      ]
    },
    {
      "cell_type": "code",
      "execution_count": null,
      "metadata": {
        "colab": {
          "base_uri": "https://localhost:8080/"
        },
        "id": "L_9CRnNaQ5kP",
        "outputId": "7b508f2f-a3bb-40fc-9f9a-5b6f77f49c27",
        "scrolled": true
      },
      "outputs": [
        {
          "output_type": "stream",
          "name": "stderr",
          "text": [
            "/usr/local/lib/python3.10/dist-packages/transformers/utils/generic.py:309: FutureWarning: `torch.utils._pytree._register_pytree_node` is deprecated. Please use `torch.utils._pytree.register_pytree_node` instead.\n",
            "  _torch_pytree._register_pytree_node(\n",
            "/usr/local/lib/python3.10/dist-packages/spacy_transformers/layers/hf_shim.py:124: FutureWarning: You are using `torch.load` with `weights_only=False` (the current default value), which uses the default pickle module implicitly. It is possible to construct malicious pickle data which will execute arbitrary code during unpickling (See https://github.com/pytorch/pytorch/blob/main/SECURITY.md#untrusted-models for more details). In a future release, the default value for `weights_only` will be flipped to `True`. This limits the functions that could be executed during unpickling. Arbitrary objects will no longer be allowed to be loaded via this mode unless they are explicitly allowlisted by the user via `torch.serialization.add_safe_globals`. We recommend you start setting `weights_only=True` for any use case where you don't have full control of the loaded file. Please open an issue on GitHub for any issues related to this experimental feature.\n",
            "  self._model.load_state_dict(torch.load(filelike, map_location=device))\n",
            "/usr/local/lib/python3.10/dist-packages/thinc/shims/pytorch.py:114: FutureWarning: `torch.cuda.amp.autocast(args...)` is deprecated. Please use `torch.amp.autocast('cuda', args...)` instead.\n",
            "  with torch.cuda.amp.autocast(self._mixed_precision):\n"
          ]
        }
      ],
      "source": [
        "for page in pages_text:\n",
        "  model = spacy.load('/content/drive/MyDrive/Colab_Notebooks/Resume_Analyser/2.version/parser_ner_model/output/model-last')\n",
        "  doc = model(page)\n",
        "  store = []\n",
        "  for ent in doc.ents:\n",
        "    if str(ent) in store:\n",
        "      continue\n",
        "    print(f'{ent.label_.upper():{30}} >>>>> {ent.text}')\n",
        "    store.append(str(ent))\n",
        "  print(\"-----\")"
      ]
    },
    {
      "cell_type": "code",
      "execution_count": null,
      "metadata": {
        "id": "olWEMbwiQ5kP"
      },
      "outputs": [],
      "source": [
        "\"\"\"\n",
        "NAME                          - Alice Clark\n",
        "LOCATION                      - Delhi\n",
        "DESIGNATION                   - Stream Analytics\n",
        "DESIGNATION                   - Software Engineer\n",
        "COMPANIES WORKED AT           - Microsoft –\n",
        "DEGREE                        - Indian Institute of Technology – Mumbai\n",
        "SKILLS                        - Machine Learning, Natural Language Processing, and Big Data Handling    ADDITIONAL INFORMATION  Professional Skills  • Excellent analytical, problem solving, communication, knowledge transfer and interpersonal\"\"\""
      ]
    }
  ],
  "metadata": {
    "colab": {
      "provenance": []
    },
    "kernelspec": {
      "display_name": "Python 3",
      "name": "python3"
    },
    "language_info": {
      "codemirror_mode": {
        "name": "ipython",
        "version": 3
      },
      "file_extension": ".py",
      "mimetype": "text/x-python",
      "name": "python",
      "nbconvert_exporter": "python",
      "pygments_lexer": "ipython3",
      "version": "3.7.16"
    }
  },
  "nbformat": 4,
  "nbformat_minor": 0
}